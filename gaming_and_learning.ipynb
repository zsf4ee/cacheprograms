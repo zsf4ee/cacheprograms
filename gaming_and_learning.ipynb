{
  "cells": [
    {
      "cell_type": "markdown",
      "metadata": {
        "id": "view-in-github",
        "colab_type": "text"
      },
      "source": [
        "<a href=\"https://colab.research.google.com/github/zsf4ee/cacheprograms/blob/main/gaming_and_learning.ipynb\" target=\"_parent\"><img src=\"https://colab.research.google.com/assets/colab-badge.svg\" alt=\"Open In Colab\"/></a>"
      ]
    },
    {
      "cell_type": "code",
      "execution_count": null,
      "metadata": {
        "id": "TG3sLQInnT_e"
      },
      "outputs": [],
      "source": [
        "# Code to download the dataset from kaggle to the notebook\n",
        "# Need to download kaggle.json on kaggle settings, then upload in files your kaggle.json file\n"
      ]
    },
    {
      "cell_type": "code",
      "execution_count": 5,
      "metadata": {
        "id": "jzefzeBQta73"
      },
      "outputs": [],
      "source": [
        "import os\n",
        "import shutil\n",
        "\n",
        "kaggle_dir = os.path.join(os.path.expanduser(\"~\"), \".kaggle\")\n",
        "if not os.path.exists(kaggle_dir):\n",
        "    os.makedirs(kaggle_dir)\n",
        "shutil.move('kaggle.json', os.path.join(kaggle_dir, 'kaggle.json'))\n",
        "os.chmod(os.path.join(kaggle_dir, 'kaggle.json'), 0o600)\n"
      ]
    },
    {
      "cell_type": "code",
      "execution_count": 6,
      "metadata": {
        "colab": {
          "base_uri": "https://localhost:8080/"
        },
        "id": "ksO8tER3qHHk",
        "outputId": "a7ea4ac9-a135-4120-a16a-63a54d1d709c"
      },
      "outputs": [
        {
          "output_type": "stream",
          "name": "stdout",
          "text": [
            "Downloading learnplatform-covid19-impact-on-digital-learning.zip to learning_data\n",
            "100% 124M/124M [00:07<00:00, 23.8MB/s]\n",
            "100% 124M/124M [00:07<00:00, 18.3MB/s]\n",
            "Dataset downloaded and extracted to learning_data\n",
            "Extracted files: ['engagement_data', 'README.md', 'products_info.csv', 'districts_info.csv']\n"
          ]
        }
      ],
      "source": [
        "import os\n",
        "import zipfile\n",
        "\n",
        "data_link = \"learnplatform-covid19-impact-on-digital-learning\"\n",
        "data_folder = \"learning_data\"\n",
        "\n",
        "if not os.path.exists(data_folder):\n",
        "    os.makedirs(data_folder)\n",
        "\n",
        "!kaggle competitions download -c {data_link} -p {data_folder}\n",
        "\n",
        "for file in os.listdir(data_folder):\n",
        "    if file.endswith('.zip'):\n",
        "        zip_path = os.path.join(data_folder, file)\n",
        "        with zipfile.ZipFile(zip_path, 'r') as zip_ref:\n",
        "            zip_ref.extractall(data_folder)\n",
        "        os.remove(zip_path)\n",
        "print(\"Dataset downloaded and extracted to\", data_folder)\n",
        "\n",
        "data_files = os.listdir(data_folder)\n",
        "print(\"Extracted files:\", data_files)\n"
      ]
    },
    {
      "cell_type": "code",
      "execution_count": 7,
      "metadata": {
        "colab": {
          "base_uri": "https://localhost:8080/"
        },
        "id": "wksGxRX7tG8-",
        "outputId": "199e00ec-026c-4cbc-e2fd-a808728d141a"
      },
      "outputs": [
        {
          "output_type": "stream",
          "name": "stdout",
          "text": [
            "<class 'pandas.core.frame.DataFrame'>\n",
            "RangeIndex: 233 entries, 0 to 232\n",
            "Data columns (total 7 columns):\n",
            " #   Column                    Non-Null Count  Dtype \n",
            "---  ------                    --------------  ----- \n",
            " 0   district_id               233 non-null    int64 \n",
            " 1   state                     176 non-null    object\n",
            " 2   locale                    176 non-null    object\n",
            " 3   pct_black/hispanic        176 non-null    object\n",
            " 4   pct_free/reduced          148 non-null    object\n",
            " 5   county_connections_ratio  162 non-null    object\n",
            " 6   pp_total_raw              118 non-null    object\n",
            "dtypes: int64(1), object(6)\n",
            "memory usage: 12.9+ KB\n"
          ]
        }
      ],
      "source": [
        "import pandas as pd\n",
        "\n",
        "districts_path = os.path.join(data_folder, 'districts_info.csv')\n",
        "districts_info_df = pd.read_csv(districts_path)\n",
        "districts_info_df.info()\n"
      ]
    },
    {
      "cell_type": "code",
      "execution_count": 8,
      "metadata": {
        "colab": {
          "base_uri": "https://localhost:8080/"
        },
        "id": "L1_TNjl4vga0",
        "outputId": "462d1b59-5dd6-432d-ed13-828fe4c23982"
      },
      "outputs": [
        {
          "output_type": "stream",
          "name": "stdout",
          "text": [
            "<class 'pandas.core.frame.DataFrame'>\n",
            "RangeIndex: 372 entries, 0 to 371\n",
            "Data columns (total 6 columns):\n",
            " #   Column                      Non-Null Count  Dtype \n",
            "---  ------                      --------------  ----- \n",
            " 0   LP ID                       372 non-null    int64 \n",
            " 1   URL                         372 non-null    object\n",
            " 2   Product Name                372 non-null    object\n",
            " 3   Provider/Company Name       371 non-null    object\n",
            " 4   Sector(s)                   352 non-null    object\n",
            " 5   Primary Essential Function  352 non-null    object\n",
            "dtypes: int64(1), object(5)\n",
            "memory usage: 17.6+ KB\n"
          ]
        }
      ],
      "source": [
        "products_path = os.path.join(data_folder, 'products_info.csv')\n",
        "products_info_df = pd.read_csv(products_path)\n",
        "products_info_df.info()"
      ]
    },
    {
      "cell_type": "code",
      "execution_count": 9,
      "metadata": {
        "colab": {
          "base_uri": "https://localhost:8080/"
        },
        "id": "MwBVfaIUx2o0",
        "outputId": "e25cc618-d215-4015-bc05-f6159ab555b1"
      },
      "outputs": [
        {
          "output_type": "stream",
          "name": "stdout",
          "text": [
            "<class 'pandas.core.frame.DataFrame'>\n",
            "RangeIndex: 74660 entries, 0 to 74659\n",
            "Data columns (total 9 columns):\n",
            " #   Column                      Non-Null Count  Dtype  \n",
            "---  ------                      --------------  -----  \n",
            " 0   LP ID                       74660 non-null  int64  \n",
            " 1   URL                         74660 non-null  object \n",
            " 2   Product Name                74660 non-null  object \n",
            " 3   Provider/Company Name       74659 non-null  object \n",
            " 4   Sector(s)                   71579 non-null  object \n",
            " 5   Primary Essential Function  71579 non-null  object \n",
            " 6   time                        74650 non-null  object \n",
            " 7   pct_access                  74650 non-null  float64\n",
            " 8   engagement_index            56675 non-null  float64\n",
            "dtypes: float64(2), int64(1), object(6)\n",
            "memory usage: 5.1+ MB\n"
          ]
        }
      ],
      "source": [
        "engagements_path = os.path.join(data_folder, 'engagement_data')\n",
        "for filename in os.listdir(engagements_path):\n",
        "    if filename.endswith('.csv'):\n",
        "        file_path = os.path.join(engagements_path, filename)\n",
        "\n",
        "        new_data = pd.read_csv(file_path)\n",
        "\n",
        "        if 'lp_id' in new_data.columns:\n",
        "          products_merged_df = pd.merge(products_info_df, new_data, left_on='LP ID', right_on='lp_id', how='left')\n",
        "\n",
        "products_merged_df.drop('lp_id', axis=1, inplace=True)\n",
        "products_merged_df.info()\n"
      ]
    },
    {
      "cell_type": "code",
      "execution_count": 10,
      "metadata": {
        "colab": {
          "base_uri": "https://localhost:8080/",
          "height": 490
        },
        "id": "l3uW8dwFHjnD",
        "outputId": "4c0431b1-8a47-4c70-ff6d-26487801f841"
      },
      "outputs": [
        {
          "output_type": "execute_result",
          "data": {
            "text/plain": [
              "engagement_index\n",
              "0.10     2877\n",
              "0.19     1928\n",
              "0.08     1844\n",
              "0.17     1297\n",
              "0.29     1073\n",
              "         ... \n",
              "89.73       1\n",
              "77.53       1\n",
              "87.11       1\n",
              "96.72       1\n",
              "62.51       1\n",
              "Name: count, Length: 13408, dtype: int64"
            ],
            "text/html": [
              "<div>\n",
              "<style scoped>\n",
              "    .dataframe tbody tr th:only-of-type {\n",
              "        vertical-align: middle;\n",
              "    }\n",
              "\n",
              "    .dataframe tbody tr th {\n",
              "        vertical-align: top;\n",
              "    }\n",
              "\n",
              "    .dataframe thead th {\n",
              "        text-align: right;\n",
              "    }\n",
              "</style>\n",
              "<table border=\"1\" class=\"dataframe\">\n",
              "  <thead>\n",
              "    <tr style=\"text-align: right;\">\n",
              "      <th></th>\n",
              "      <th>count</th>\n",
              "    </tr>\n",
              "    <tr>\n",
              "      <th>engagement_index</th>\n",
              "      <th></th>\n",
              "    </tr>\n",
              "  </thead>\n",
              "  <tbody>\n",
              "    <tr>\n",
              "      <th>0.10</th>\n",
              "      <td>2877</td>\n",
              "    </tr>\n",
              "    <tr>\n",
              "      <th>0.19</th>\n",
              "      <td>1928</td>\n",
              "    </tr>\n",
              "    <tr>\n",
              "      <th>0.08</th>\n",
              "      <td>1844</td>\n",
              "    </tr>\n",
              "    <tr>\n",
              "      <th>0.17</th>\n",
              "      <td>1297</td>\n",
              "    </tr>\n",
              "    <tr>\n",
              "      <th>0.29</th>\n",
              "      <td>1073</td>\n",
              "    </tr>\n",
              "    <tr>\n",
              "      <th>...</th>\n",
              "      <td>...</td>\n",
              "    </tr>\n",
              "    <tr>\n",
              "      <th>89.73</th>\n",
              "      <td>1</td>\n",
              "    </tr>\n",
              "    <tr>\n",
              "      <th>77.53</th>\n",
              "      <td>1</td>\n",
              "    </tr>\n",
              "    <tr>\n",
              "      <th>87.11</th>\n",
              "      <td>1</td>\n",
              "    </tr>\n",
              "    <tr>\n",
              "      <th>96.72</th>\n",
              "      <td>1</td>\n",
              "    </tr>\n",
              "    <tr>\n",
              "      <th>62.51</th>\n",
              "      <td>1</td>\n",
              "    </tr>\n",
              "  </tbody>\n",
              "</table>\n",
              "<p>13408 rows × 1 columns</p>\n",
              "</div><br><label><b>dtype:</b> int64</label>"
            ]
          },
          "metadata": {},
          "execution_count": 10
        }
      ],
      "source": [
        "products_merged_df['engagement_index'].value_counts()"
      ]
    },
    {
      "cell_type": "code",
      "execution_count": 11,
      "metadata": {
        "colab": {
          "base_uri": "https://localhost:8080/",
          "height": 560
        },
        "id": "GJj2vsXZIL0e",
        "outputId": "7f354ac8-069b-4a0f-b2b3-e3c34ad87068"
      },
      "outputs": [
        {
          "output_type": "execute_result",
          "data": {
            "text/plain": [
              "<Axes: xlabel='time', ylabel='engagement_index'>"
            ]
          },
          "metadata": {},
          "execution_count": 11
        },
        {
          "output_type": "display_data",
          "data": {
            "text/plain": [
              "<Figure size 1200x600 with 1 Axes>"
            ],
            "image/png": "[encoded data removed]"
          },
          "metadata": {}
        }
      ],
      "source": [
        "import matplotlib.pyplot as plt\n",
        "import seaborn as sns\n",
        "\n",
        "plt.figure(figsize=(12, 6))\n",
        "sns.boxplot(data=products_merged_df, x='time', y='engagement_index')"
      ]
    },
    {
      "cell_type": "code",
      "source": [
        "import os\n",
        "import pandas as pd\n",
        "\n",
        "# define paths\n",
        "data_folder = \"learning_data\"\n",
        "districts_path = os.path.join(data_folder, 'districts_info.csv')\n",
        "products_path = os.path.join(data_folder, 'products_info.csv')\n",
        "engagements_path = os.path.join(data_folder, 'engagement_data')\n",
        "\n",
        "# load data\n",
        "districts_df = pd.read_csv(districts_path)\n",
        "products_df = pd.read_csv(products_path)\n",
        "\n",
        "# ensure consistent data types for merging\n",
        "districts_df['district_id'] = districts_df['district_id'].astype(str)\n",
        "\n",
        "# process engagement data\n",
        "engagement_list = []\n",
        "for file in os.listdir(engagements_path):\n",
        "    if file.endswith('.csv'):\n",
        "        district_id = file.split('.')[0]  # extract district_id from filename\n",
        "        engagement_df = pd.read_csv(os.path.join(engagements_path, file))\n",
        "        engagement_df['district_id'] = district_id  # add district_id\n",
        "        engagement_list.append(engagement_df)\n",
        "\n",
        "# combine all engagement files\n",
        "engagement_df = pd.concat(engagement_list, ignore_index=True)\n",
        "engagement_df['district_id'] = engagement_df['district_id'].astype(str)\n",
        "\n",
        "# merge products with engagement data\n",
        "products_engagement_df = pd.merge(\n",
        "    products_df,\n",
        "    engagement_df,\n",
        "    left_on='LP ID',\n",
        "    right_on='lp_id',\n",
        "    how='inner'\n",
        ")\n",
        "\n",
        "# merge districts with the combined data\n",
        "final_df = pd.merge(\n",
        "    districts_df,\n",
        "    products_engagement_df,\n",
        "    on='district_id',\n",
        "    how='inner'\n",
        ")\n",
        "\n",
        "# display the final DataFrame information\n",
        "print(final_df.info())\n",
        "print(final_df.head())\n",
        "\n",
        "# save to a CSV file\n",
        "final_df.to_csv(os.path.join(data_folder, 'merged_data.csv'), index=False)\n",
        "print(\"Merged data saved to 'merged_data.csv'\")\n"
      ],
      "metadata": {
        "id": "pN_ESULDuh3u",
        "outputId": "3afff340-105f-4e90-9c25-d36d6aa4e125",
        "colab": {
          "base_uri": "https://localhost:8080/"
        }
      },
      "execution_count": 12,
      "outputs": [
        {
          "output_type": "stream",
          "name": "stdout",
          "text": [
            "<class 'pandas.core.frame.DataFrame'>\n",
            "RangeIndex: 11691587 entries, 0 to 11691586\n",
            "Data columns (total 17 columns):\n",
            " #   Column                      Dtype  \n",
            "---  ------                      -----  \n",
            " 0   district_id                 object \n",
            " 1   state                       object \n",
            " 2   locale                      object \n",
            " 3   pct_black/hispanic          object \n",
            " 4   pct_free/reduced            object \n",
            " 5   county_connections_ratio    object \n",
            " 6   pp_total_raw                object \n",
            " 7   LP ID                       int64  \n",
            " 8   URL                         object \n",
            " 9   Product Name                object \n",
            " 10  Provider/Company Name       object \n",
            " 11  Sector(s)                   object \n",
            " 12  Primary Essential Function  object \n",
            " 13  time                        object \n",
            " 14  lp_id                       float64\n",
            " 15  pct_access                  float64\n",
            " 16  engagement_index            float64\n",
            "dtypes: float64(3), int64(1), object(13)\n",
            "memory usage: 1.5+ GB\n",
            "None\n",
            "  district_id     state  locale pct_black/hispanic pct_free/reduced  \\\n",
            "0        8815  Illinois  Suburb           [0, 0.2[         [0, 0.2[   \n",
            "1        8815  Illinois  Suburb           [0, 0.2[         [0, 0.2[   \n",
            "2        8815  Illinois  Suburb           [0, 0.2[         [0, 0.2[   \n",
            "3        8815  Illinois  Suburb           [0, 0.2[         [0, 0.2[   \n",
            "4        8815  Illinois  Suburb           [0, 0.2[         [0, 0.2[   \n",
            "\n",
            "  county_connections_ratio    pp_total_raw  LP ID                         URL  \\\n",
            "0                [0.18, 1[  [14000, 16000[  13117  https://www.splashmath.com   \n",
            "1                [0.18, 1[  [14000, 16000[  13117  https://www.splashmath.com   \n",
            "2                [0.18, 1[  [14000, 16000[  13117  https://www.splashmath.com   \n",
            "3                [0.18, 1[  [14000, 16000[  13117  https://www.splashmath.com   \n",
            "4                [0.18, 1[  [14000, 16000[  13117  https://www.splashmath.com   \n",
            "\n",
            "  Product Name Provider/Company Name Sector(s)  \\\n",
            "0  SplashLearn         StudyPad Inc.   PreK-12   \n",
            "1  SplashLearn         StudyPad Inc.   PreK-12   \n",
            "2  SplashLearn         StudyPad Inc.   PreK-12   \n",
            "3  SplashLearn         StudyPad Inc.   PreK-12   \n",
            "4  SplashLearn         StudyPad Inc.   PreK-12   \n",
            "\n",
            "        Primary Essential Function        time    lp_id  pct_access  \\\n",
            "0  LC - Digital Learning Platforms  2020-02-27  13117.0        0.14   \n",
            "1  LC - Digital Learning Platforms  2020-03-02  13117.0        0.18   \n",
            "2  LC - Digital Learning Platforms  2020-03-03  13117.0        0.08   \n",
            "3  LC - Digital Learning Platforms  2020-03-04  13117.0        0.14   \n",
            "4  LC - Digital Learning Platforms  2020-03-05  13117.0        0.39   \n",
            "\n",
            "   engagement_index  \n",
            "0              2.84  \n",
            "1              6.13  \n",
            "2              3.18  \n",
            "3              8.02  \n",
            "4             69.37  \n",
            "Merged data saved to 'merged_data.csv'\n"
          ]
        }
      ]
    },
    {
      "cell_type": "markdown",
      "source": [
        "NEW CODE!!! Using demographic and socioeconomic data, predict which gamified tool would work best for each district.\n"
      ],
      "metadata": {
        "id": "pgDfH2Z6CM6X"
      }
    },
    {
      "cell_type": "code",
      "source": [
        "import os\n",
        "import pandas as pd\n",
        "import numpy as np\n",
        "from sklearn.model_selection import train_test_split, GridSearchCV\n",
        "from sklearn.preprocessing import LabelEncoder\n",
        "from sklearn.ensemble import RandomForestClassifier\n",
        "from sklearn.metrics import accuracy_score, classification_report, confusion_matrix\n",
        "import matplotlib.pyplot as plt\n",
        "import seaborn as sns\n",
        "import joblib\n",
        "\n",
        "# Load merged data\n",
        "merged_data_path = \"learning_data/merged_data.csv\"\n",
        "df = pd.read_csv(merged_data_path)\n",
        "\n",
        "# Handle missing values\n",
        "df.fillna({\n",
        "    'pct_black/hispanic': 'Unknown',\n",
        "    'pct_free/reduced': 'Unknown',\n",
        "    'county_connections_ratio': 'Unknown',\n",
        "    'pp_total_raw': 'Unknown'\n",
        "}, inplace=True)\n",
        "\n",
        "df.dropna(subset=['Primary Essential Function'], inplace=True)\n",
        "print(\"Data Loaded and Missing Values Handled\")\n"
      ],
      "metadata": {
        "id": "TD9XN_2pbNb6",
        "outputId": "73c27347-dff6-4c11-db0e-8aa94716844a",
        "colab": {
          "base_uri": "https://localhost:8080/"
        }
      },
      "execution_count": null,
      "outputs": [
        {
          "metadata": {
            "tags": null
          },
          "name": "stderr",
          "output_type": "stream",
          "text": [
            "<ipython-input-10-3f71e7fcf737>:14: DtypeWarning: Columns (1,2,3,4,5,6) have mixed types. Specify dtype option on import or set low_memory=False.\n",
            "  df = pd.read_csv(merged_data_path)\n"
          ]
        },
        {
          "output_type": "stream",
          "name": "stdout",
          "text": [
            "Data Loaded and Missing Values Handled\n"
          ]
        }
      ]
    },
    {
      "cell_type": "code",
      "source": [
        "# Encode categorical columns\n",
        "categorical_cols = ['state', 'locale', 'pct_black/hispanic', 'pct_free/reduced',\n",
        "                    'county_connections_ratio', 'pp_total_raw', 'Primary Essential Function']\n",
        "label_encoders = {}\n",
        "\n",
        "for col in categorical_cols:\n",
        "    le = LabelEncoder()\n",
        "    df[col] = le.fit_transform(df[col].astype(str))\n",
        "    label_encoders[col] = le  # Save encoder for decoding later\n",
        "\n",
        "print(\"Categorical Columns Encoded\")\n"
      ],
      "metadata": {
        "id": "7sF6LiK4bYsd",
        "outputId": "e09634ba-b345-4474-e4c1-a3e27879b49e",
        "colab": {
          "base_uri": "https://localhost:8080/"
        }
      },
      "execution_count": null,
      "outputs": [
        {
          "output_type": "stream",
          "name": "stdout",
          "text": [
            "Categorical Columns Encoded\n"
          ]
        }
      ]
    },
    {
      "cell_type": "code",
      "source": [
        "# Define features and target\n",
        "features = ['state', 'locale', 'pct_black/hispanic', 'pct_free/reduced',\n",
        "            'county_connections_ratio', 'pp_total_raw']\n",
        "target = 'Primary Essential Function'\n",
        "\n",
        "X = df[features]\n",
        "y = df[target]\n",
        "\n",
        "print(\"Features and Target Defined\")\n"
      ],
      "metadata": {
        "id": "cqGkVE4AbcXG",
        "outputId": "c075ce9d-3457-44fb-ebe5-b932da537605",
        "colab": {
          "base_uri": "https://localhost:8080/"
        }
      },
      "execution_count": null,
      "outputs": [
        {
          "output_type": "stream",
          "name": "stdout",
          "text": [
            "Features and Target Defined\n"
          ]
        }
      ]
    },
    {
      "cell_type": "code",
      "source": [
        "# Split dataset into training and test sets\n",
        "X_train, X_test, y_train, y_test = train_test_split(X, y, test_size=0.3, stratify=y, random_state=42)\n",
        "print(\"Data Split into Training and Test Sets\")\n"
      ],
      "metadata": {
        "id": "CUGXlK-2bd9Z",
        "outputId": "8674d046-d9c4-4418-821e-ff210308886d",
        "colab": {
          "base_uri": "https://localhost:8080/"
        }
      },
      "execution_count": null,
      "outputs": [
        {
          "output_type": "stream",
          "name": "stdout",
          "text": [
            "Data Split into Training and Test Sets\n"
          ]
        }
      ]
    },
    {
      "cell_type": "code",
      "source": [
        "# Initialize Random Forest Classifier\n",
        "rf_classifier = RandomForestClassifier(\n",
        "    n_estimators=200,\n",
        "    max_depth=20,\n",
        "    min_samples_split=10,\n",
        "    min_samples_leaf=5,\n",
        "    class_weight=\"balanced\",\n",
        "    random_state=42\n",
        ")\n",
        "\n",
        "# Train the classifier\n",
        "rf_classifier.fit(X_train, y_train)\n",
        "print(\"Random Forest Model Trained\")\n"
      ],
      "metadata": {
        "id": "svCNYsxtbgHb"
      },
      "execution_count": null,
      "outputs": []
    },
    {
      "cell_type": "code",
      "source": [
        "# Make predictions\n",
        "y_pred = rf_classifier.predict(X_test)\n",
        "\n",
        "# Evaluate the model\n",
        "accuracy = accuracy_score(y_test, y_pred)\n",
        "print(\"Accuracy:\", accuracy)\n",
        "print(\"Classification Report:\\n\", classification_report(y_test, y_pred))\n",
        "\n",
        "# Confusion Matrix Visualization\n",
        "cm = confusion_matrix(y_test, y_pred)\n",
        "plt.figure(figsize=(12, 8))\n",
        "sns.heatmap(cm, annot=True, fmt='d', cmap='Blues')\n",
        "plt.title(\"Confusion Matrix\")\n",
        "plt.xlabel(\"Predicted\")\n",
        "plt.ylabel(\"Actual\")\n",
        "plt.show()\n"
      ],
      "metadata": {
        "id": "agb9khdabiSO"
      },
      "execution_count": null,
      "outputs": []
    },
    {
      "cell_type": "code",
      "source": [
        "# Plot feature importance\n",
        "feature_importances = rf_classifier.feature_importances_\n",
        "plt.figure(figsize=(10, 6))\n",
        "sns.barplot(x=features, y=feature_importances)\n",
        "plt.title(\"Feature Importance\")\n",
        "plt.xlabel(\"Features\")\n",
        "plt.ylabel(\"Importance\")\n",
        "plt.show()\n"
      ],
      "metadata": {
        "id": "fedJ3igrbkJg"
      },
      "execution_count": null,
      "outputs": []
    },
    {
      "cell_type": "markdown",
      "source": [
        "newest"
      ],
      "metadata": {
        "id": "TLxIiITgYCaX"
      }
    },
    {
      "cell_type": "code",
      "source": [
        "import os\n",
        "import pandas as pd\n",
        "import numpy as np\n",
        "from sklearn.model_selection import train_test_split, GridSearchCV\n",
        "from sklearn.preprocessing import LabelEncoder\n",
        "from sklearn.ensemble import RandomForestClassifier\n",
        "from sklearn.metrics import accuracy_score, classification_report, confusion_matrix\n",
        "import matplotlib.pyplot as plt\n",
        "import seaborn as sns\n",
        "import joblib\n",
        "\n",
        "# Load merged data\n",
        "merged_data_path = \"learning_data/merged_data.csv\"\n",
        "df = pd.read_csv(merged_data_path)\n",
        "\n",
        "# Handle missing values\n",
        "df.fillna({\n",
        "    'pct_black/hispanic': 'Unknown',\n",
        "    'pct_free/reduced': 'Unknown',\n",
        "    'county_connections_ratio': 'Unknown',\n",
        "    'pp_total_raw': 'Unknown'\n",
        "}, inplace=True)\n",
        "\n",
        "df.dropna(subset=['Primary Essential Function'], inplace=True)\n",
        "print(\"Data Loaded and Missing Values Handled\")\n"
      ],
      "metadata": {
        "colab": {
          "base_uri": "https://localhost:8080/"
        },
        "id": "USjz4mocYCJs",
        "outputId": "b31c9f80-7c6c-42b3-a7d0-fc540fafbd1d"
      },
      "execution_count": 13,
      "outputs": [
        {
          "output_type": "stream",
          "name": "stderr",
          "text": [
            "<ipython-input-13-3f71e7fcf737>:14: DtypeWarning: Columns (1,2,3,4,5,6) have mixed types. Specify dtype option on import or set low_memory=False.\n",
            "  df = pd.read_csv(merged_data_path)\n"
          ]
        },
        {
          "output_type": "stream",
          "name": "stdout",
          "text": [
            "Data Loaded and Missing Values Handled\n"
          ]
        }
      ]
    },
    {
      "cell_type": "code",
      "source": [
        "# Encode categorical columns\n",
        "categorical_cols = ['state', 'locale', 'pct_black/hispanic', 'pct_free/reduced',\n",
        "                    'county_connections_ratio', 'pp_total_raw', 'Primary Essential Function']\n",
        "label_encoders = {}\n",
        "\n",
        "for col in categorical_cols:\n",
        "    le = LabelEncoder()\n",
        "    df[col] = le.fit_transform(df[col].astype(str))\n",
        "    label_encoders[col] = le  # Save encoder for decoding later\n",
        "\n",
        "print(\"Categorical Columns Encoded\")\n"
      ],
      "metadata": {
        "colab": {
          "base_uri": "https://localhost:8080/"
        },
        "id": "fam3Hye2YFKI",
        "outputId": "53abf48d-9f7c-4c91-966d-c8268229436c"
      },
      "execution_count": 14,
      "outputs": [
        {
          "output_type": "stream",
          "name": "stdout",
          "text": [
            "Categorical Columns Encoded\n"
          ]
        }
      ]
    },
    {
      "cell_type": "code",
      "source": [
        "# Define features and target\n",
        "features = ['state', 'locale', 'pct_black/hispanic', 'pct_free/reduced',\n",
        "            'county_connections_ratio', 'pp_total_raw']\n",
        "target = 'Primary Essential Function'\n",
        "\n",
        "X = df[features]\n",
        "y = df[target]\n",
        "\n",
        "print(\"Features and Target Defined\")\n"
      ],
      "metadata": {
        "colab": {
          "base_uri": "https://localhost:8080/"
        },
        "id": "uo2XTJATYHCd",
        "outputId": "2e59e434-b9b8-4b1d-859a-97afaaba5353"
      },
      "execution_count": 15,
      "outputs": [
        {
          "output_type": "stream",
          "name": "stdout",
          "text": [
            "Features and Target Defined\n"
          ]
        }
      ]
    },
    {
      "cell_type": "code",
      "source": [
        "# Split dataset into training and test sets\n",
        "X_train, X_test, y_train, y_test = train_test_split(X, y, test_size=0.3, stratify=y, random_state=42)\n",
        "print(\"Data Split into Training and Test Sets\")\n"
      ],
      "metadata": {
        "colab": {
          "base_uri": "https://localhost:8080/"
        },
        "id": "RSKZ3NxPYLER",
        "outputId": "8853b0b7-de3b-4933-bbd2-c4aadcb98012"
      },
      "execution_count": 16,
      "outputs": [
        {
          "output_type": "stream",
          "name": "stdout",
          "text": [
            "Data Split into Training and Test Sets\n"
          ]
        }
      ]
    },
    {
      "cell_type": "code",
      "source": [
        "# Initialize Random Forest Classifier\n",
        "rf_classifier = RandomForestClassifier(\n",
        "    n_estimators=200,\n",
        "    max_depth=20,\n",
        "    min_samples_split=10,\n",
        "    min_samples_leaf=5,\n",
        "    class_weight=\"balanced\",\n",
        "    random_state=42\n",
        ")\n",
        "\n",
        "# Train the classifier\n",
        "rf_classifier.fit(X_train, y_train)\n",
        "print(\"Random Forest Model Trained\")\n"
      ],
      "metadata": {
        "colab": {
          "base_uri": "https://localhost:8080/"
        },
        "id": "LzcofFhBYUZJ",
        "outputId": "93423c0f-8de0-4a24-f46f-d397ca8d68e1"
      },
      "execution_count": 18,
      "outputs": [
        {
          "output_type": "stream",
          "name": "stdout",
          "text": [
            "Random Forest Model Trained\n"
          ]
        }
      ]
    },
    {
      "cell_type": "code",
      "source": [
        "# Make predictions\n",
        "y_pred = rf_classifier.predict(X_test)\n",
        "\n",
        "# Evaluate the model\n",
        "accuracy = accuracy_score(y_test, y_pred)\n",
        "print(\"Accuracy:\", accuracy)\n",
        "print(\"Classification Report:\\n\", classification_report(y_test, y_pred))\n",
        "\n",
        "# Confusion Matrix Visualization\n",
        "cm = confusion_matrix(y_test, y_pred)\n",
        "plt.figure(figsize=(12, 8))\n",
        "sns.heatmap(cm, annot=True, fmt='d', cmap='Blues')\n",
        "plt.title(\"Confusion Matrix\")\n",
        "plt.xlabel(\"Predicted\")\n",
        "plt.ylabel(\"Actual\")\n",
        "plt.show()\n"
      ],
      "metadata": {
        "colab": {
          "base_uri": "https://localhost:8080/",
          "height": 216
        },
        "id": "hIWZ54yib4AL",
        "outputId": "4e6b4fea-f042-4167-ed05-901665e78ee7"
      },
      "execution_count": 3,
      "outputs": [
        {
          "output_type": "error",
          "ename": "NameError",
          "evalue": "name 'rf_classifier' is not defined",
          "traceback": [
            "\u001b[0;31m---------------------------------------------------------------------------\u001b[0m",
            "\u001b[0;31mNameError\u001b[0m                                 Traceback (most recent call last)",
            "\u001b[0;32m<ipython-input-3-088c2d10b012>\u001b[0m in \u001b[0;36m<cell line: 2>\u001b[0;34m()\u001b[0m\n\u001b[1;32m      1\u001b[0m \u001b[0;31m# Make predictions\u001b[0m\u001b[0;34m\u001b[0m\u001b[0;34m\u001b[0m\u001b[0m\n\u001b[0;32m----> 2\u001b[0;31m \u001b[0my_pred\u001b[0m \u001b[0;34m=\u001b[0m \u001b[0mrf_classifier\u001b[0m\u001b[0;34m.\u001b[0m\u001b[0mpredict\u001b[0m\u001b[0;34m(\u001b[0m\u001b[0mX_test\u001b[0m\u001b[0;34m)\u001b[0m\u001b[0;34m\u001b[0m\u001b[0;34m\u001b[0m\u001b[0m\n\u001b[0m\u001b[1;32m      3\u001b[0m \u001b[0;34m\u001b[0m\u001b[0m\n\u001b[1;32m      4\u001b[0m \u001b[0;31m# Evaluate the model\u001b[0m\u001b[0;34m\u001b[0m\u001b[0;34m\u001b[0m\u001b[0m\n\u001b[1;32m      5\u001b[0m \u001b[0maccuracy\u001b[0m \u001b[0;34m=\u001b[0m \u001b[0maccuracy_score\u001b[0m\u001b[0;34m(\u001b[0m\u001b[0my_test\u001b[0m\u001b[0;34m,\u001b[0m \u001b[0my_pred\u001b[0m\u001b[0;34m)\u001b[0m\u001b[0;34m\u001b[0m\u001b[0;34m\u001b[0m\u001b[0m\n",
            "\u001b[0;31mNameError\u001b[0m: name 'rf_classifier' is not defined"
          ]
        }
      ]
    },
    {
      "cell_type": "code",
      "source": [
        "# Plot feature importance\n",
        "feature_importances = rf_classifier.feature_importances_\n",
        "plt.figure(figsize=(10, 6))\n",
        "sns.barplot(x=features, y=feature_importances)\n",
        "plt.title(\"Feature Importance\")\n",
        "plt.xlabel(\"Features\")\n",
        "plt.ylabel(\"Importance\")\n",
        "plt.show()\n"
      ],
      "metadata": {
        "id": "EvY6cjV7YWE2"
      },
      "execution_count": null,
      "outputs": []
    },
    {
      "cell_type": "code",
      "source": [
        "from imblearn.over_sampling import SMOTE\n",
        "\n",
        "# Resample the dataset to balance classes\n",
        "smote = SMOTE(random_state=42)\n",
        "X_train_resampled, y_train_resampled = smote.fit_resample(X_train, y_train)\n",
        "\n",
        "# Train the model on the resampled dataset\n",
        "rf_classifier.fit(X_train_resampled, y_train_resampled)\n"
      ],
      "metadata": {
        "colab": {
          "base_uri": "https://localhost:8080/",
          "height": 365
        },
        "id": "HIR02Wg8b8c7",
        "outputId": "03c59f2b-4e36-44fb-955d-0e372c1c5d2e"
      },
      "execution_count": 19,
      "outputs": [
        {
          "output_type": "error",
          "ename": "KeyboardInterrupt",
          "evalue": "",
          "traceback": [
            "\u001b[0;31m---------------------------------------------------------------------------\u001b[0m",
            "\u001b[0;31mKeyboardInterrupt\u001b[0m                         Traceback (most recent call last)",
            "\u001b[0;32m<ipython-input-19-a7fdb03c3739>\u001b[0m in \u001b[0;36m<cell line: 5>\u001b[0;34m()\u001b[0m\n\u001b[1;32m      3\u001b[0m \u001b[0;31m# Resample the dataset to balance classes\u001b[0m\u001b[0;34m\u001b[0m\u001b[0;34m\u001b[0m\u001b[0m\n\u001b[1;32m      4\u001b[0m \u001b[0msmote\u001b[0m \u001b[0;34m=\u001b[0m \u001b[0mSMOTE\u001b[0m\u001b[0;34m(\u001b[0m\u001b[0mrandom_state\u001b[0m\u001b[0;34m=\u001b[0m\u001b[0;36m42\u001b[0m\u001b[0;34m)\u001b[0m\u001b[0;34m\u001b[0m\u001b[0;34m\u001b[0m\u001b[0m\n\u001b[0;32m----> 5\u001b[0;31m \u001b[0mX_train_resampled\u001b[0m\u001b[0;34m,\u001b[0m \u001b[0my_train_resampled\u001b[0m \u001b[0;34m=\u001b[0m \u001b[0msmote\u001b[0m\u001b[0;34m.\u001b[0m\u001b[0mfit_resample\u001b[0m\u001b[0;34m(\u001b[0m\u001b[0mX_train\u001b[0m\u001b[0;34m,\u001b[0m \u001b[0my_train\u001b[0m\u001b[0;34m)\u001b[0m\u001b[0;34m\u001b[0m\u001b[0;34m\u001b[0m\u001b[0m\n\u001b[0m\u001b[1;32m      6\u001b[0m \u001b[0;34m\u001b[0m\u001b[0m\n\u001b[1;32m      7\u001b[0m \u001b[0;31m# Train the model on the resampled dataset\u001b[0m\u001b[0;34m\u001b[0m\u001b[0;34m\u001b[0m\u001b[0m\n",
            "\u001b[0;32m/usr/local/lib/python3.10/dist-packages/imblearn/base.py\u001b[0m in \u001b[0;36mfit_resample\u001b[0;34m(self, X, y)\u001b[0m\n\u001b[1;32m    206\u001b[0m         \"\"\"\n\u001b[1;32m    207\u001b[0m         \u001b[0mself\u001b[0m\u001b[0;34m.\u001b[0m\u001b[0m_validate_params\u001b[0m\u001b[0;34m(\u001b[0m\u001b[0;34m)\u001b[0m\u001b[0;34m\u001b[0m\u001b[0;34m\u001b[0m\u001b[0m\n\u001b[0;32m--> 208\u001b[0;31m         \u001b[0;32mreturn\u001b[0m \u001b[0msuper\u001b[0m\u001b[0;34m(\u001b[0m\u001b[0;34m)\u001b[0m\u001b[0;34m.\u001b[0m\u001b[0mfit_resample\u001b[0m\u001b[0;34m(\u001b[0m\u001b[0mX\u001b[0m\u001b[0;34m,\u001b[0m \u001b[0my\u001b[0m\u001b[0;34m)\u001b[0m\u001b[0;34m\u001b[0m\u001b[0;34m\u001b[0m\u001b[0m\n\u001b[0m\u001b[1;32m    209\u001b[0m \u001b[0;34m\u001b[0m\u001b[0m\n\u001b[1;32m    210\u001b[0m     \u001b[0;32mdef\u001b[0m \u001b[0m_more_tags\u001b[0m\u001b[0;34m(\u001b[0m\u001b[0mself\u001b[0m\u001b[0;34m)\u001b[0m\u001b[0;34m:\u001b[0m\u001b[0;34m\u001b[0m\u001b[0;34m\u001b[0m\u001b[0m\n",
            "\u001b[0;32m/usr/local/lib/python3.10/dist-packages/imblearn/base.py\u001b[0m in \u001b[0;36mfit_resample\u001b[0;34m(self, X, y)\u001b[0m\n\u001b[1;32m    110\u001b[0m         )\n\u001b[1;32m    111\u001b[0m \u001b[0;34m\u001b[0m\u001b[0m\n\u001b[0;32m--> 112\u001b[0;31m         \u001b[0moutput\u001b[0m \u001b[0;34m=\u001b[0m \u001b[0mself\u001b[0m\u001b[0;34m.\u001b[0m\u001b[0m_fit_resample\u001b[0m\u001b[0;34m(\u001b[0m\u001b[0mX\u001b[0m\u001b[0;34m,\u001b[0m \u001b[0my\u001b[0m\u001b[0;34m)\u001b[0m\u001b[0;34m\u001b[0m\u001b[0;34m\u001b[0m\u001b[0m\n\u001b[0m\u001b[1;32m    113\u001b[0m \u001b[0;34m\u001b[0m\u001b[0m\n\u001b[1;32m    114\u001b[0m         y_ = (\n",
            "\u001b[0;32m/usr/local/lib/python3.10/dist-packages/imblearn/over_sampling/_smote/base.py\u001b[0m in \u001b[0;36m_fit_resample\u001b[0;34m(self, X, y)\u001b[0m\n\u001b[1;32m    387\u001b[0m \u001b[0;34m\u001b[0m\u001b[0m\n\u001b[1;32m    388\u001b[0m             \u001b[0mself\u001b[0m\u001b[0;34m.\u001b[0m\u001b[0mnn_k_\u001b[0m\u001b[0;34m.\u001b[0m\u001b[0mfit\u001b[0m\u001b[0;34m(\u001b[0m\u001b[0mX_class\u001b[0m\u001b[0;34m)\u001b[0m\u001b[0;34m\u001b[0m\u001b[0;34m\u001b[0m\u001b[0m\n\u001b[0;32m--> 389\u001b[0;31m             \u001b[0mnns\u001b[0m \u001b[0;34m=\u001b[0m \u001b[0mself\u001b[0m\u001b[0;34m.\u001b[0m\u001b[0mnn_k_\u001b[0m\u001b[0;34m.\u001b[0m\u001b[0mkneighbors\u001b[0m\u001b[0;34m(\u001b[0m\u001b[0mX_class\u001b[0m\u001b[0;34m,\u001b[0m \u001b[0mreturn_distance\u001b[0m\u001b[0;34m=\u001b[0m\u001b[0;32mFalse\u001b[0m\u001b[0;34m)\u001b[0m\u001b[0;34m[\u001b[0m\u001b[0;34m:\u001b[0m\u001b[0;34m,\u001b[0m \u001b[0;36m1\u001b[0m\u001b[0;34m:\u001b[0m\u001b[0;34m]\u001b[0m\u001b[0;34m\u001b[0m\u001b[0;34m\u001b[0m\u001b[0m\n\u001b[0m\u001b[1;32m    390\u001b[0m             X_new, y_new = self._make_samples(\n\u001b[1;32m    391\u001b[0m                 \u001b[0mX_class\u001b[0m\u001b[0;34m,\u001b[0m \u001b[0my\u001b[0m\u001b[0;34m.\u001b[0m\u001b[0mdtype\u001b[0m\u001b[0;34m,\u001b[0m \u001b[0mclass_sample\u001b[0m\u001b[0;34m,\u001b[0m \u001b[0mX_class\u001b[0m\u001b[0;34m,\u001b[0m \u001b[0mnns\u001b[0m\u001b[0;34m,\u001b[0m \u001b[0mn_samples\u001b[0m\u001b[0;34m,\u001b[0m \u001b[0;36m1.0\u001b[0m\u001b[0;34m\u001b[0m\u001b[0;34m\u001b[0m\u001b[0m\n",
            "\u001b[0;32m/usr/local/lib/python3.10/dist-packages/sklearn/neighbors/_base.py\u001b[0m in \u001b[0;36mkneighbors\u001b[0;34m(self, X, n_neighbors, return_distance)\u001b[0m\n\u001b[1;32m    901\u001b[0m                     \u001b[0;34m\"or set algorithm='brute'\"\u001b[0m \u001b[0;34m%\u001b[0m \u001b[0mself\u001b[0m\u001b[0;34m.\u001b[0m\u001b[0m_fit_method\u001b[0m\u001b[0;34m\u001b[0m\u001b[0;34m\u001b[0m\u001b[0m\n\u001b[1;32m    902\u001b[0m                 )\n\u001b[0;32m--> 903\u001b[0;31m             chunked_results = Parallel(n_jobs, prefer=\"threads\")(\n\u001b[0m\u001b[1;32m    904\u001b[0m                 delayed(_tree_query_parallel_helper)(\n\u001b[1;32m    905\u001b[0m                     \u001b[0mself\u001b[0m\u001b[0;34m.\u001b[0m\u001b[0m_tree\u001b[0m\u001b[0;34m,\u001b[0m \u001b[0mX\u001b[0m\u001b[0;34m[\u001b[0m\u001b[0ms\u001b[0m\u001b[0;34m]\u001b[0m\u001b[0;34m,\u001b[0m \u001b[0mn_neighbors\u001b[0m\u001b[0;34m,\u001b[0m \u001b[0mreturn_distance\u001b[0m\u001b[0;34m\u001b[0m\u001b[0;34m\u001b[0m\u001b[0m\n",
            "\u001b[0;32m/usr/local/lib/python3.10/dist-packages/sklearn/utils/parallel.py\u001b[0m in \u001b[0;36m__call__\u001b[0;34m(self, iterable)\u001b[0m\n\u001b[1;32m     72\u001b[0m             \u001b[0;32mfor\u001b[0m \u001b[0mdelayed_func\u001b[0m\u001b[0;34m,\u001b[0m \u001b[0margs\u001b[0m\u001b[0;34m,\u001b[0m \u001b[0mkwargs\u001b[0m \u001b[0;32min\u001b[0m \u001b[0miterable\u001b[0m\u001b[0;34m\u001b[0m\u001b[0;34m\u001b[0m\u001b[0m\n\u001b[1;32m     73\u001b[0m         )\n\u001b[0;32m---> 74\u001b[0;31m         \u001b[0;32mreturn\u001b[0m \u001b[0msuper\u001b[0m\u001b[0;34m(\u001b[0m\u001b[0;34m)\u001b[0m\u001b[0;34m.\u001b[0m\u001b[0m__call__\u001b[0m\u001b[0;34m(\u001b[0m\u001b[0miterable_with_config\u001b[0m\u001b[0;34m)\u001b[0m\u001b[0;34m\u001b[0m\u001b[0;34m\u001b[0m\u001b[0m\n\u001b[0m\u001b[1;32m     75\u001b[0m \u001b[0;34m\u001b[0m\u001b[0m\n\u001b[1;32m     76\u001b[0m \u001b[0;34m\u001b[0m\u001b[0m\n",
            "\u001b[0;32m/usr/local/lib/python3.10/dist-packages/joblib/parallel.py\u001b[0m in \u001b[0;36m__call__\u001b[0;34m(self, iterable)\u001b[0m\n\u001b[1;32m   1916\u001b[0m             \u001b[0moutput\u001b[0m \u001b[0;34m=\u001b[0m \u001b[0mself\u001b[0m\u001b[0;34m.\u001b[0m\u001b[0m_get_sequential_output\u001b[0m\u001b[0;34m(\u001b[0m\u001b[0miterable\u001b[0m\u001b[0;34m)\u001b[0m\u001b[0;34m\u001b[0m\u001b[0;34m\u001b[0m\u001b[0m\n\u001b[1;32m   1917\u001b[0m             \u001b[0mnext\u001b[0m\u001b[0;34m(\u001b[0m\u001b[0moutput\u001b[0m\u001b[0;34m)\u001b[0m\u001b[0;34m\u001b[0m\u001b[0;34m\u001b[0m\u001b[0m\n\u001b[0;32m-> 1918\u001b[0;31m             \u001b[0;32mreturn\u001b[0m \u001b[0moutput\u001b[0m \u001b[0;32mif\u001b[0m \u001b[0mself\u001b[0m\u001b[0;34m.\u001b[0m\u001b[0mreturn_generator\u001b[0m \u001b[0;32melse\u001b[0m \u001b[0mlist\u001b[0m\u001b[0;34m(\u001b[0m\u001b[0moutput\u001b[0m\u001b[0;34m)\u001b[0m\u001b[0;34m\u001b[0m\u001b[0;34m\u001b[0m\u001b[0m\n\u001b[0m\u001b[1;32m   1919\u001b[0m \u001b[0;34m\u001b[0m\u001b[0m\n\u001b[1;32m   1920\u001b[0m         \u001b[0;31m# Let's create an ID that uniquely identifies the current call. If the\u001b[0m\u001b[0;34m\u001b[0m\u001b[0;34m\u001b[0m\u001b[0m\n",
            "\u001b[0;32m/usr/local/lib/python3.10/dist-packages/joblib/parallel.py\u001b[0m in \u001b[0;36m_get_sequential_output\u001b[0;34m(self, iterable)\u001b[0m\n\u001b[1;32m   1845\u001b[0m                 \u001b[0mself\u001b[0m\u001b[0;34m.\u001b[0m\u001b[0mn_dispatched_batches\u001b[0m \u001b[0;34m+=\u001b[0m \u001b[0;36m1\u001b[0m\u001b[0;34m\u001b[0m\u001b[0;34m\u001b[0m\u001b[0m\n\u001b[1;32m   1846\u001b[0m                 \u001b[0mself\u001b[0m\u001b[0;34m.\u001b[0m\u001b[0mn_dispatched_tasks\u001b[0m \u001b[0;34m+=\u001b[0m \u001b[0;36m1\u001b[0m\u001b[0;34m\u001b[0m\u001b[0;34m\u001b[0m\u001b[0m\n\u001b[0;32m-> 1847\u001b[0;31m                 \u001b[0mres\u001b[0m \u001b[0;34m=\u001b[0m \u001b[0mfunc\u001b[0m\u001b[0;34m(\u001b[0m\u001b[0;34m*\u001b[0m\u001b[0margs\u001b[0m\u001b[0;34m,\u001b[0m \u001b[0;34m**\u001b[0m\u001b[0mkwargs\u001b[0m\u001b[0;34m)\u001b[0m\u001b[0;34m\u001b[0m\u001b[0;34m\u001b[0m\u001b[0m\n\u001b[0m\u001b[1;32m   1848\u001b[0m                 \u001b[0mself\u001b[0m\u001b[0;34m.\u001b[0m\u001b[0mn_completed_tasks\u001b[0m \u001b[0;34m+=\u001b[0m \u001b[0;36m1\u001b[0m\u001b[0;34m\u001b[0m\u001b[0;34m\u001b[0m\u001b[0m\n\u001b[1;32m   1849\u001b[0m                 \u001b[0mself\u001b[0m\u001b[0;34m.\u001b[0m\u001b[0mprint_progress\u001b[0m\u001b[0;34m(\u001b[0m\u001b[0;34m)\u001b[0m\u001b[0;34m\u001b[0m\u001b[0;34m\u001b[0m\u001b[0m\n",
            "\u001b[0;32m/usr/local/lib/python3.10/dist-packages/sklearn/utils/parallel.py\u001b[0m in \u001b[0;36m__call__\u001b[0;34m(self, *args, **kwargs)\u001b[0m\n\u001b[1;32m    134\u001b[0m             \u001b[0mconfig\u001b[0m \u001b[0;34m=\u001b[0m \u001b[0;34m{\u001b[0m\u001b[0;34m}\u001b[0m\u001b[0;34m\u001b[0m\u001b[0;34m\u001b[0m\u001b[0m\n\u001b[1;32m    135\u001b[0m         \u001b[0;32mwith\u001b[0m \u001b[0mconfig_context\u001b[0m\u001b[0;34m(\u001b[0m\u001b[0;34m**\u001b[0m\u001b[0mconfig\u001b[0m\u001b[0;34m)\u001b[0m\u001b[0;34m:\u001b[0m\u001b[0;34m\u001b[0m\u001b[0;34m\u001b[0m\u001b[0m\n\u001b[0;32m--> 136\u001b[0;31m             \u001b[0;32mreturn\u001b[0m \u001b[0mself\u001b[0m\u001b[0;34m.\u001b[0m\u001b[0mfunction\u001b[0m\u001b[0;34m(\u001b[0m\u001b[0;34m*\u001b[0m\u001b[0margs\u001b[0m\u001b[0;34m,\u001b[0m \u001b[0;34m**\u001b[0m\u001b[0mkwargs\u001b[0m\u001b[0;34m)\u001b[0m\u001b[0;34m\u001b[0m\u001b[0;34m\u001b[0m\u001b[0m\n\u001b[0m\u001b[1;32m    137\u001b[0m \u001b[0;34m\u001b[0m\u001b[0m\n\u001b[1;32m    138\u001b[0m \u001b[0;34m\u001b[0m\u001b[0m\n",
            "\u001b[0;32m/usr/local/lib/python3.10/dist-packages/sklearn/neighbors/_base.py\u001b[0m in \u001b[0;36m_tree_query_parallel_helper\u001b[0;34m(tree, *args, **kwargs)\u001b[0m\n\u001b[1;32m    702\u001b[0m     \u001b[0munder\u001b[0m \u001b[0mPyPy\u001b[0m\u001b[0;34m.\u001b[0m\u001b[0;34m\u001b[0m\u001b[0;34m\u001b[0m\u001b[0m\n\u001b[1;32m    703\u001b[0m     \"\"\"\n\u001b[0;32m--> 704\u001b[0;31m     \u001b[0;32mreturn\u001b[0m \u001b[0mtree\u001b[0m\u001b[0;34m.\u001b[0m\u001b[0mquery\u001b[0m\u001b[0;34m(\u001b[0m\u001b[0;34m*\u001b[0m\u001b[0margs\u001b[0m\u001b[0;34m,\u001b[0m \u001b[0;34m**\u001b[0m\u001b[0mkwargs\u001b[0m\u001b[0;34m)\u001b[0m\u001b[0;34m\u001b[0m\u001b[0;34m\u001b[0m\u001b[0m\n\u001b[0m\u001b[1;32m    705\u001b[0m \u001b[0;34m\u001b[0m\u001b[0m\n\u001b[1;32m    706\u001b[0m \u001b[0;34m\u001b[0m\u001b[0m\n",
            "\u001b[0;31mKeyboardInterrupt\u001b[0m: "
          ]
        }
      ]
    },
    {
      "cell_type": "code",
      "source": [
        "param_grid = {\n",
        "    'n_estimators': [100, 200, 300],\n",
        "    'max_depth': [10, 20, 30],\n",
        "    'min_samples_split': [2, 5, 10],\n",
        "    'min_samples_leaf': [1, 2, 5]\n",
        "}\n",
        "\n",
        "grid_search = GridSearchCV(\n",
        "    estimator=RandomForestClassifier(class_weight=\"balanced\", random_state=42),\n",
        "    param_grid=param_grid,\n",
        "    cv=3,\n",
        "    scoring=\"accuracy\",\n",
        "    verbose=2\n",
        ")\n",
        "grid_search.fit(X_train_resampled, y_train_resampled)\n",
        "print(\"Best Parameters:\", grid_search.best_params_)\n",
        "\n",
        "# Evaluate the best model\n",
        "best_rf = grid_search.best_estimator_\n",
        "y_pred_best = best_rf.predict(X_test)\n",
        "print(\"Tuned Model Accuracy:\", accuracy_score(y_test, y_pred_best))\n"
      ],
      "metadata": {
        "id": "sZ8wtYEFb-Tc"
      },
      "execution_count": null,
      "outputs": []
    },
    {
      "cell_type": "code",
      "source": [
        "# Save the trained model\n",
        "model_path = \"learning_data/random_forest_model.pkl\"\n",
        "joblib.dump(rf_classifier, model_path)\n",
        "print(f\"Model saved to {model_path}\")\n"
      ],
      "metadata": {
        "id": "cRC1Ye7VcAD7"
      },
      "execution_count": null,
      "outputs": []
    }
  ],
  "metadata": {
    "colab": {
      "provenance": [],
      "gpuType": "T4",
      "include_colab_link": true
    },
    "kernelspec": {
      "display_name": "Python 3",
      "name": "python3"
    },
    "language_info": {
      "name": "python"
    },
    "accelerator": "GPU"
  },
  "nbformat": 4,
  "nbformat_minor": 0
}